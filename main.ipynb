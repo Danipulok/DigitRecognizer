{
 "cells": [
  {
   "cell_type": "markdown",
   "metadata": {
    "id": "AJ5SW6-Dh62y",
    "pycharm": {
     "name": "#%% md\n"
    }
   },
   "source": [
    "# Digit recognizer"
   ]
  },
  {
   "cell_type": "markdown",
   "metadata": {
    "id": "FZ20j3uwiSZN",
    "pycharm": {
     "name": "#%% md\n"
    }
   },
   "source": [
    "## Used libraries\n",
    "\n",
    "• tensorflow — TensorFlow is an open source software library for high performance numerical computation.\n",
    "• keras — TensorFlow Keras is an implementation of the Keras API that uses TensorFlow as a backend."
   ]
  },
  {
   "cell_type": "markdown",
   "source": [
    "## Used classes\n",
    "• Sequential - model that groups linear set of layers to `tf.keras.Model`.\n",
    "• Dense - просто наш обычный плотно связанный слой NN.\n",
    "• Dropout - randomly sets input values to 0 with the speed that helps to prevent overtraining. Input values not set to 0 are scaled by 1/(1 - speed) so that the sum of all input values remains the same."
   ],
   "metadata": {
    "collapsed": false,
    "pycharm": {
     "name": "#%% md\n"
    }
   }
  },
  {
   "cell_type": "code",
   "execution_count": 2,
   "metadata": {
    "id": "zEWO9gwpiZVK",
    "pycharm": {
     "name": "#%%\n"
    }
   },
   "outputs": [],
   "source": [
    "import os\n",
    "\n",
    "import matplotlib.pyplot as plt\n",
    "import numpy as np\n",
    "import tensorflow as tf\n",
    "from keras.layers import Dense, Dropout\n",
    "from keras.models import Sequential\n",
    "from keras.optimizers import RMSprop\n",
    "from tensorflow import keras"
   ]
  },
  {
   "cell_type": "markdown",
   "metadata": {
    "pycharm": {
     "name": "#%% md\n"
    }
   },
   "source": [
    "## Model creation"
   ]
  },
  {
   "cell_type": "code",
   "execution_count": 3,
   "metadata": {
    "id": "aQbRaMq0jGgf",
    "pycharm": {
     "name": "#%%\n"
    }
   },
   "outputs": [],
   "source": [
    "def mnist_make_model(image_w: int, image_h: int) -> Sequential:\n",
    "    model = Sequential()\n",
    "    model.add(Dense(1024, activation=\"relu\", input_shape=(image_w * image_h,)))\n",
    "    model.add(Dropout(0.2))     # rate 0.2 - set 20% of inputs to zero\n",
    "    model.add(Dense(1024, activation=\"relu\"))\n",
    "    model.add(Dropout(0.2))\n",
    "    model.add(Dense(10, activation=\"softmax\"))\n",
    "    model.compile(loss=\"categorical_crossentropy\", optimizer=RMSprop(), metrics=[\"accuracy\"])\n",
    "    return model"
   ]
  },
  {
   "cell_type": "markdown",
   "metadata": {
    "pycharm": {
     "name": "#%% md\n"
    }
   },
   "source": [
    "## Neural network training"
   ]
  },
  {
   "cell_type": "code",
   "execution_count": 4,
   "metadata": {
    "id": "dUPiRJUuk6Rp",
    "pycharm": {
     "name": "#%%\n"
    }
   },
   "outputs": [],
   "source": [
    "def mnist_mlp_train(model: Sequential) -> tuple:\n",
    "    (x_train, y_train), (x_test, y_test) = keras.datasets.mnist.load_data()\n",
    "\n",
    "    image_size = x_train.shape[1]\n",
    "    train_data = x_train.reshape(x_train.shape[0], image_size * image_size)\n",
    "    test_data = x_test.reshape(x_test.shape[0], image_size * image_size)\n",
    "\n",
    "    train_data = train_data.astype(\"float32\")\n",
    "    test_data = test_data.astype(\"float32\")\n",
    "    train_data /= 255.0\n",
    "    test_data /= 255.0\n",
    "\n",
    "    # encode the labels - we have 10 output classes\n",
    "    # 3 -> [0 0 0 1 0 0 0 0 0 0], 5 -> [0 0 0 0 0 1 0 0 0 0]\n",
    "    num_classes = 10\n",
    "    train_labels_cat = keras.utils.to_categorical(y_train, num_classes)\n",
    "    test_labels_cat = keras.utils.to_categorical(y_test, num_classes)\n",
    "\n",
    "    print(\"Training the network...\")\n",
    "\n",
    "    # Start training the network\n",
    "    history = model.fit(\n",
    "        x=train_data,\n",
    "        y=train_labels_cat,\n",
    "        epochs=21,\n",
    "        batch_size=100,\n",
    "        verbose=1,\n",
    "        validation_data=(test_data, test_labels_cat),\n",
    "    )\n",
    "\n",
    "    return model, history"
   ]
  },
  {
   "cell_type": "markdown",
   "metadata": {
    "pycharm": {
     "name": "#%% md\n"
    }
   },
   "source": [
    "## Model creation"
   ]
  },
  {
   "cell_type": "code",
   "execution_count": 11,
   "metadata": {
    "colab": {
     "base_uri": "https://localhost:8080/"
    },
    "id": "ZcHgh8dvk_YV",
    "outputId": "3ce0e994-d1ac-405d-eb0b-31d5ff075ce6",
    "pycharm": {
     "name": "#%%\n"
    }
   },
   "outputs": [
    {
     "name": "stdout",
     "output_type": "stream",
     "text": [
      "Training the network...\n",
      "Epoch 1/21\n",
      "600/600 [==============================] - 25s 41ms/step - loss: 0.2211 - accuracy: 0.9322 - val_loss: 0.0956 - val_accuracy: 0.9700\n",
      "Epoch 2/21\n",
      "600/600 [==============================] - 26s 44ms/step - loss: 0.0983 - accuracy: 0.9716 - val_loss: 0.0900 - val_accuracy: 0.9757\n",
      "Epoch 3/21\n",
      "600/600 [==============================] - 25s 41ms/step - loss: 0.0751 - accuracy: 0.9782 - val_loss: 0.0750 - val_accuracy: 0.9796\n",
      "Epoch 4/21\n",
      "600/600 [==============================] - 24s 40ms/step - loss: 0.0661 - accuracy: 0.9826 - val_loss: 0.0948 - val_accuracy: 0.9790\n",
      "Epoch 5/21\n",
      "600/600 [==============================] - 25s 41ms/step - loss: 0.0581 - accuracy: 0.9845 - val_loss: 0.0866 - val_accuracy: 0.9800\n",
      "Epoch 6/21\n",
      "600/600 [==============================] - 30s 50ms/step - loss: 0.0520 - accuracy: 0.9860 - val_loss: 0.1078 - val_accuracy: 0.9785\n",
      "Epoch 7/21\n",
      "600/600 [==============================] - 26s 43ms/step - loss: 0.0502 - accuracy: 0.9880 - val_loss: 0.1028 - val_accuracy: 0.9805\n",
      "Epoch 8/21\n",
      "600/600 [==============================] - 26s 43ms/step - loss: 0.0476 - accuracy: 0.9888 - val_loss: 0.0992 - val_accuracy: 0.9816\n",
      "Epoch 9/21\n",
      "600/600 [==============================] - 26s 43ms/step - loss: 0.0409 - accuracy: 0.9898 - val_loss: 0.1217 - val_accuracy: 0.9811\n",
      "Epoch 10/21\n",
      "600/600 [==============================] - 26s 43ms/step - loss: 0.0434 - accuracy: 0.9898 - val_loss: 0.1328 - val_accuracy: 0.9808\n",
      "Epoch 11/21\n",
      "600/600 [==============================] - 25s 42ms/step - loss: 0.0389 - accuracy: 0.9911 - val_loss: 0.1110 - val_accuracy: 0.9828\n",
      "Epoch 12/21\n",
      "600/600 [==============================] - 25s 42ms/step - loss: 0.0330 - accuracy: 0.9925 - val_loss: 0.1372 - val_accuracy: 0.9825\n",
      "Epoch 13/21\n",
      "600/600 [==============================] - 24s 40ms/step - loss: 0.0370 - accuracy: 0.9918 - val_loss: 0.1743 - val_accuracy: 0.9798\n",
      "Epoch 14/21\n",
      "600/600 [==============================] - 26s 43ms/step - loss: 0.0338 - accuracy: 0.9931 - val_loss: 0.1510 - val_accuracy: 0.9818\n",
      "Epoch 15/21\n",
      "600/600 [==============================] - 25s 41ms/step - loss: 0.0333 - accuracy: 0.9931 - val_loss: 0.1485 - val_accuracy: 0.9837\n",
      "Epoch 16/21\n",
      "600/600 [==============================] - 25s 42ms/step - loss: 0.0345 - accuracy: 0.9930 - val_loss: 0.1403 - val_accuracy: 0.9837\n",
      "Epoch 17/21\n",
      "600/600 [==============================] - 27s 45ms/step - loss: 0.0281 - accuracy: 0.9938 - val_loss: 0.2032 - val_accuracy: 0.9820\n",
      "Epoch 18/21\n",
      "600/600 [==============================] - 26s 43ms/step - loss: 0.0282 - accuracy: 0.9946 - val_loss: 0.1936 - val_accuracy: 0.9824\n",
      "Epoch 19/21\n",
      "600/600 [==============================] - 26s 43ms/step - loss: 0.0273 - accuracy: 0.9948 - val_loss: 0.2231 - val_accuracy: 0.9822\n",
      "Epoch 20/21\n",
      "600/600 [==============================] - 26s 43ms/step - loss: 0.0259 - accuracy: 0.9947 - val_loss: 0.1863 - val_accuracy: 0.9828\n",
      "Epoch 21/21\n",
      "600/600 [==============================] - 26s 43ms/step - loss: 0.0281 - accuracy: 0.9945 - val_loss: 0.2352 - val_accuracy: 0.9807\n"
     ]
    }
   ],
   "source": [
    "model = mnist_make_model(image_w=28, image_h=28)\n",
    "model, history = mnist_mlp_train(model)\n",
    "model.save(os.path.join(\"models\", \"mlp_digits_28x28.h5\"))"
   ]
  },
  {
   "cell_type": "markdown",
   "metadata": {
    "collapsed": false,
    "pycharm": {
     "name": "#%% md\n"
    }
   },
   "source": [
    "## Building training graph"
   ]
  },
  {
   "cell_type": "code",
   "execution_count": 6,
   "metadata": {
    "collapsed": false,
    "pycharm": {
     "name": "#%%\n"
    }
   },
   "outputs": [
    {
     "data": {
      "text/plain": "<Figure size 432x288 with 1 Axes>",
      "image/png": "[encoded data removed]"
     },
     "metadata": {
      "needs_background": "light"
     },
     "output_type": "display_data"
    }
   ],
   "source": [
    "history_dict = history.history\n",
    "acc_values = history_dict[\"accuracy\"]\n",
    "val_acc_values = history_dict[\"val_accuracy\"]\n",
    "epochs = range(1, len(acc_values) + 1)\n",
    "plt.plot(epochs, acc_values, \"bo\", label=\"Training acc\")\n",
    "plt.plot(epochs, val_acc_values, \"b\", label=\"Validation acc\")\n",
    "plt.xlabel(\"Epochs\")\n",
    "plt.ylabel(\"Accuracy\")\n",
    "plt.legend()\n",
    "plt.show()"
   ]
  },
  {
   "cell_type": "markdown",
   "metadata": {
    "collapsed": false,
    "pycharm": {
     "name": "#%% md\n"
    }
   },
   "source": [
    "## Evaluate the quality of model training on test data"
   ]
  },
  {
   "cell_type": "code",
   "execution_count": 7,
   "metadata": {
    "collapsed": false,
    "pycharm": {
     "name": "#%%\n"
    }
   },
   "outputs": [
    {
     "name": "stdout",
     "output_type": "stream",
     "text": [
      "Accuracy on test data: 98.40%\n"
     ]
    }
   ],
   "source": [
    "print(\"Accuracy on test data: %.2f%%\" % (val_acc_values[-11] * 100))"
   ]
  },
  {
   "cell_type": "markdown",
   "metadata": {
    "pycharm": {
     "name": "#%% md\n"
    }
   },
   "source": [
    "## Digit prediction"
   ]
  },
  {
   "cell_type": "code",
   "execution_count": 8,
   "metadata": {
    "pycharm": {
     "name": "#%%\n"
    }
   },
   "outputs": [],
   "source": [
    "def mlp_digits_predict(model: Sequential, image_file: str) -> np.int64:\n",
    "    image_size = 28\n",
    "    img = keras.preprocessing.image.load_img(image_file, target_size=(image_size, image_size), color_mode=\"grayscale\")\n",
    "    plt.imshow(img)\n",
    "    plt.show()\n",
    "\n",
    "    img_arr = np.expand_dims(img, axis=0)\n",
    "    img_arr = 1 - img_arr / 255.0\n",
    "    img_arr = img_arr.reshape((1, image_size * image_size))\n",
    "    predict_classes = model.predict([img_arr])\n",
    "    result = np.argmax(predict_classes, axis=1)\n",
    "    return result[0]"
   ]
  },
  {
   "cell_type": "markdown",
   "metadata": {
    "pycharm": {
     "name": "#%% md\n"
    }
   },
   "source": [
    "## Loading the model"
   ]
  },
  {
   "cell_type": "code",
   "execution_count": 9,
   "metadata": {
    "pycharm": {
     "name": "#%%\n"
    }
   },
   "outputs": [],
   "source": [
    "model = tf.keras.models.load_model(os.path.join(\"models\", \"mlp_digits_28x28.h5\"))"
   ]
  },
  {
   "cell_type": "markdown",
   "metadata": {
    "pycharm": {
     "name": "#%% md\n"
    }
   },
   "source": [
    "## Распознание цифр"
   ]
  },
  {
   "cell_type": "code",
   "execution_count": 10,
   "metadata": {
    "pycharm": {
     "name": "#%%\n"
    }
   },
   "outputs": [
    {
     "data": {
      "text/plain": "<Figure size 432x288 with 1 Axes>",
      "image/png": "[encoded data removed]"
     },
     "metadata": {
      "needs_background": "light"
     },
     "output_type": "display_data"
    },
    {
     "name": "stdout",
     "output_type": "stream",
     "text": [
      "1/1 [==============================] - 0s 112ms/step\n",
      "Result for 0: 0\n"
     ]
    },
    {
     "data": {
      "text/plain": "<Figure size 432x288 with 1 Axes>",
      "image/png": "[encoded data removed]"
     },
     "metadata": {
      "needs_background": "light"
     },
     "output_type": "display_data"
    },
    {
     "name": "stdout",
     "output_type": "stream",
     "text": [
      "1/1 [==============================] - 0s 28ms/step\n",
      "Result for 1: 1\n"
     ]
    },
    {
     "data": {
      "text/plain": "<Figure size 432x288 with 1 Axes>",
      "image/png": "[encoded data removed]"
     },
     "metadata": {
      "needs_background": "light"
     },
     "output_type": "display_data"
    },
    {
     "name": "stdout",
     "output_type": "stream",
     "text": [
      "1/1 [==============================] - 0s 28ms/step\n",
      "Result for 2: 2\n"
     ]
    },
    {
     "data": {
      "text/plain": "<Figure size 432x288 with 1 Axes>",
      "image/png": "[encoded data removed]"
     },
     "metadata": {
      "needs_background": "light"
     },
     "output_type": "display_data"
    },
    {
     "name": "stdout",
     "output_type": "stream",
     "text": [
      "1/1 [==============================] - 0s 28ms/step\n",
      "Result for 2_: 2\n"
     ]
    },
    {
     "data": {
      "text/plain": "<Figure size 432x288 with 1 Axes>",
      "image/png": "[encoded data removed]"
     },
     "metadata": {
      "needs_background": "light"
     },
     "output_type": "display_data"
    },
    {
     "name": "stdout",
     "output_type": "stream",
     "text": [
      "1/1 [==============================] - 0s 24ms/step\n",
      "Result for 3: 3\n"
     ]
    },
    {
     "data": {
      "text/plain": "<Figure size 432x288 with 1 Axes>",
      "image/png": "[encoded data removed]"
     },
     "metadata": {
      "needs_background": "light"
     },
     "output_type": "display_data"
    },
    {
     "name": "stdout",
     "output_type": "stream",
     "text": [
      "1/1 [==============================] - 0s 23ms/step\n",
      "Result for 4: 4\n"
     ]
    },
    {
     "data": {
      "text/plain": "<Figure size 432x288 with 1 Axes>",
      "image/png": "[encoded data removed]"
     },
     "metadata": {
      "needs_background": "light"
     },
     "output_type": "display_data"
    },
    {
     "name": "stdout",
     "output_type": "stream",
     "text": [
      "1/1 [==============================] - 0s 25ms/step\n",
      "Result for 5: 5\n"
     ]
    },
    {
     "data": {
      "text/plain": "<Figure size 432x288 with 1 Axes>",
      "image/png": "[encoded data removed]"
     },
     "metadata": {
      "needs_background": "light"
     },
     "output_type": "display_data"
    },
    {
     "name": "stdout",
     "output_type": "stream",
     "text": [
      "1/1 [==============================] - 0s 25ms/step\n",
      "Result for 6: 5\n"
     ]
    },
    {
     "data": {
      "text/plain": "<Figure size 432x288 with 1 Axes>",
      "image/png": "[encoded data removed]"
     },
     "metadata": {
      "needs_background": "light"
     },
     "output_type": "display_data"
    },
    {
     "name": "stdout",
     "output_type": "stream",
     "text": [
      "1/1 [==============================] - 0s 28ms/step\n",
      "Result for 7: 7\n"
     ]
    },
    {
     "data": {
      "text/plain": "<Figure size 432x288 with 1 Axes>",
      "image/png": "[encoded data removed]"
     },
     "metadata": {
      "needs_background": "light"
     },
     "output_type": "display_data"
    },
    {
     "name": "stdout",
     "output_type": "stream",
     "text": [
      "1/1 [==============================] - 0s 25ms/step\n",
      "Result for 8: 8\n"
     ]
    },
    {
     "data": {
      "text/plain": "<Figure size 432x288 with 1 Axes>",
      "image/png": "[encoded data removed]"
     },
     "metadata": {
      "needs_background": "light"
     },
     "output_type": "display_data"
    },
    {
     "name": "stdout",
     "output_type": "stream",
     "text": [
      "1/1 [==============================] - 0s 27ms/step\n",
      "Result for 9: 9\n"
     ]
    }
   ],
   "source": [
    "images_list = sorted(os.listdir(\"source\"))\n",
    "for image_name in images_list:\n",
    "    name, extension = image_name.split('.')\n",
    "    print(f\"Result for {name}: {mlp_digits_predict(model, os.path.join('source', image_name))}\")"
   ]
  }
 ],
 "metadata": {
  "colab": {
   "name": "AI_TextRecognizer.ipynb",
   "provenance": []
  },
  "kernelspec": {
   "display_name": "Python 3 (ipykernel)",
   "language": "python",
   "name": "python3"
  },
  "language_info": {
   "codemirror_mode": {
    "name": "ipython",
    "version": 3
   },
   "file_extension": ".py",
   "mimetype": "text/x-python",
   "name": "python",
   "nbconvert_exporter": "python",
   "pygments_lexer": "ipython3",
   "version": "3.10.4"
  }
 },
 "nbformat": 4,
 "nbformat_minor": 1
}